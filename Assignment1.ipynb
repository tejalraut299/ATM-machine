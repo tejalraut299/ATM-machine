{
  "nbformat": 4,
  "nbformat_minor": 0,
  "metadata": {
    "colab": {
      "provenance": [],
      "authorship_tag": "ABX9TyO/CnrX2KrtwBJ324h+kigr",
      "include_colab_link": true
    },
    "kernelspec": {
      "name": "python3",
      "display_name": "Python 3"
    },
    "language_info": {
      "name": "python"
    }
  },
  "cells": [
    {
      "cell_type": "markdown",
      "metadata": {
        "id": "view-in-github",
        "colab_type": "text"
      },
      "source": [
        "<a href=\"https://colab.research.google.com/github/tejalraut299/ATM-machine/blob/main/Assignment1.ipynb\" target=\"_parent\"><img src=\"https://colab.research.google.com/assets/colab-badge.svg\" alt=\"Open In Colab\"/></a>"
      ]
    },
    {
      "cell_type": "markdown",
      "source": [
        "# **Indentation & Syntax**"
      ],
      "metadata": {
        "id": "yfklFXpasVmh"
      }
    },
    {
      "cell_type": "code",
      "execution_count": 1,
      "metadata": {
        "colab": {
          "base_uri": "https://localhost:8080/"
        },
        "id": "_nvCwJgEm1DD",
        "outputId": "e3fe9ebc-7cc0-4873-870e-efd95a53b16d"
      },
      "outputs": [
        {
          "output_type": "stream",
          "name": "stdout",
          "text": [
            "Entera number: 23\n",
            "positive number\n"
          ]
        }
      ],
      "source": [
        "n=int(input(\"Enter a number: \")) #in python is no necessary to wite data type,is know by input automatically\n",
        "if n>0 :\n",
        "  print(\"positive number\")\n",
        "elif n<0 :\n",
        "  print(\"negative number\")\n",
        "else :\n",
        "  print(\"zero\")"
      ]
    },
    {
      "cell_type": "code",
      "source": [
        "  print(\"Hello,world?\")\n"
      ],
      "metadata": {
        "colab": {
          "base_uri": "https://localhost:8080/"
        },
        "id": "LN_MC-f2n_u-",
        "outputId": "ed3c251a-7d48-429d-8c2b-7eab12e4c5d1"
      },
      "execution_count": 3,
      "outputs": [
        {
          "output_type": "stream",
          "name": "stdout",
          "text": [
            "Hello,world?\n"
          ]
        }
      ]
    },
    {
      "cell_type": "code",
      "source": [
        "a=(input(\"Enter a number: \")) #in python is no necessary to wite data type,is know by input automatically\n",
        "b=(input(\"Enter a number: \"))\n",
        "if a>b:\n",
        "  print(\"a is greater than b\")\n",
        "elif a<b:\n",
        "  print(\"a is less than b\")\n",
        "else:\n",
        "  print(\"a is equal to b\")"
      ],
      "metadata": {
        "colab": {
          "base_uri": "https://localhost:8080/"
        },
        "id": "6vIkTgvZobaV",
        "outputId": "f4559250-61cd-4a4e-b450-a9f69fc77ad0"
      },
      "execution_count": 74,
      "outputs": [
        {
          "output_type": "stream",
          "name": "stdout",
          "text": [
            "Entera number: 45.777\n",
            "Entera number: 33.333\n",
            "a is greater than b\n"
          ]
        }
      ]
    },
    {
      "cell_type": "code",
      "source": [
        "n=int(input(\"Enter a number: \"))\n",
        "if (n%2)==0:\n",
        "  print(\"even number\")\n",
        "else:\n",
        "  print(\"odd number\");\n"
      ],
      "metadata": {
        "colab": {
          "base_uri": "https://localhost:8080/"
        },
        "id": "tgQgjUDmomtI",
        "outputId": "cc3e3e48-2144-48a0-c922-c954a8a69bc8"
      },
      "execution_count": 8,
      "outputs": [
        {
          "output_type": "stream",
          "name": "stdout",
          "text": [
            "Enter a number: 88\n",
            "even number\n"
          ]
        }
      ]
    },
    {
      "cell_type": "code",
      "source": [
        "# Numbers 1 to 5\n",
        "for i in range(1,6):\n",
        "   print(i);"
      ],
      "metadata": {
        "colab": {
          "base_uri": "https://localhost:8080/"
        },
        "id": "IQRDKcr0pKxK",
        "outputId": "72cc25b8-9966-47ce-941e-b55f5d10b1a7"
      },
      "execution_count": 13,
      "outputs": [
        {
          "output_type": "stream",
          "name": "stdout",
          "text": [
            "1\n",
            "2\n",
            "3\n",
            "4\n",
            "5\n"
          ]
        }
      ]
    },
    {
      "cell_type": "markdown",
      "source": [
        "# **Comments**\n"
      ],
      "metadata": {
        "id": "TRzhfwl2r7mF"
      }
    },
    {
      "cell_type": "code",
      "source": [
        "#Single-line Comment\n",
        "print(\"Mother is 1st Teacher\");"
      ],
      "metadata": {
        "colab": {
          "base_uri": "https://localhost:8080/"
        },
        "id": "wNzM06WHpXe7",
        "outputId": "d1213acc-a804-406d-9225-36ad10a90fe8"
      },
      "execution_count": 16,
      "outputs": [
        {
          "output_type": "stream",
          "name": "stdout",
          "text": [
            "Mother is 1st Teacher\n"
          ]
        }
      ]
    },
    {
      "cell_type": "code",
      "source": [
        "#Multi-line Comment -single cote,double cote\n",
        "\"\"\"thanks for such a nice program\n",
        "for Daughter future and we will always\n",
        " greatful for AI and Prompt\n",
        "  Engineer fulltime course\"\"\"\n",
        "print(\"Thanks\")"
      ],
      "metadata": {
        "colab": {
          "base_uri": "https://localhost:8080/"
        },
        "id": "H4exMD5fpo_i",
        "outputId": "e2273481-bb45-4bb2-b2fa-324b62e50e2f"
      },
      "execution_count": 20,
      "outputs": [
        {
          "output_type": "stream",
          "name": "stdout",
          "text": [
            "Thanks\n"
          ]
        }
      ]
    },
    {
      "cell_type": "code",
      "source": [
        "\"\"\"sum of two numbers\n",
        " without positive operator\"\"\"\n",
        " #add\n",
        "print(10-(-15));"
      ],
      "metadata": {
        "colab": {
          "base_uri": "https://localhost:8080/"
        },
        "id": "YmGkP4fnqHBE",
        "outputId": "96de3790-4fa3-44b0-d73d-36615eeb6382"
      },
      "execution_count": 22,
      "outputs": [
        {
          "output_type": "stream",
          "name": "stdout",
          "text": [
            "25\n"
          ]
        }
      ]
    },
    {
      "cell_type": "code",
      "source": [],
      "metadata": {
        "id": "UKar2W3QqxZU"
      },
      "execution_count": null,
      "outputs": []
    },
    {
      "cell_type": "markdown",
      "source": [
        "# #**Arithmatic** **Operators**\n",
        "\n"
      ],
      "metadata": {
        "id": "d_EQDEtgrird"
      }
    },
    {
      "cell_type": "markdown",
      "source": [],
      "metadata": {
        "id": "lBSsLEkKrhN0"
      }
    },
    {
      "cell_type": "code",
      "source": [
        "# sum\n",
        "a=78\n",
        "b=2\n",
        "c=a+b;\n",
        "print(c);"
      ],
      "metadata": {
        "colab": {
          "base_uri": "https://localhost:8080/"
        },
        "id": "j8FE0yxPsepH",
        "outputId": "06b1d0fb-560d-4983-aff7-7ed9898e9895"
      },
      "execution_count": 24,
      "outputs": [
        {
          "output_type": "stream",
          "name": "stdout",
          "text": [
            "80\n"
          ]
        }
      ]
    },
    {
      "cell_type": "markdown",
      "source": [],
      "metadata": {
        "id": "lQED-mD3sT2m"
      }
    },
    {
      "cell_type": "code",
      "source": [
        "# subtract\n",
        "a=78\n",
        "b=2\n",
        "c=a-b;\n",
        "print(c);"
      ],
      "metadata": {
        "colab": {
          "base_uri": "https://localhost:8080/"
        },
        "id": "zDWXGB1jsw_2",
        "outputId": "557e9895-43e9-4943-94de-126c2936f995"
      },
      "execution_count": 25,
      "outputs": [
        {
          "output_type": "stream",
          "name": "stdout",
          "text": [
            "76\n"
          ]
        }
      ]
    },
    {
      "cell_type": "code",
      "source": [
        "# multiply\n",
        "a=78\n",
        "b=2\n",
        "c=a*b;\n",
        "print(c);"
      ],
      "metadata": {
        "colab": {
          "base_uri": "https://localhost:8080/"
        },
        "id": "MNJ1RphBswF4",
        "outputId": "7a7c85c5-26f0-40dd-a836-6d54b7bbad23"
      },
      "execution_count": 27,
      "outputs": [
        {
          "output_type": "stream",
          "name": "stdout",
          "text": [
            "156\n"
          ]
        }
      ]
    },
    {
      "cell_type": "code",
      "source": [
        "# Division\n",
        "a=78\n",
        "b=8\n",
        "c=a/b;\n",
        "print(c);"
      ],
      "metadata": {
        "colab": {
          "base_uri": "https://localhost:8080/"
        },
        "id": "lu3vbymdr52t",
        "outputId": "85d43ca9-5bf7-4708-8e92-699ab6a9f55b"
      },
      "execution_count": 32,
      "outputs": [
        {
          "output_type": "stream",
          "name": "stdout",
          "text": [
            "9.75\n"
          ]
        }
      ]
    },
    {
      "cell_type": "code",
      "source": [
        "#reminder-modulas\n",
        "a=78\n",
        "b=8\n",
        "c=a%b;\n",
        "print(c);"
      ],
      "metadata": {
        "colab": {
          "base_uri": "https://localhost:8080/"
        },
        "id": "yo5j5_LdtMAK",
        "outputId": "4e6029cc-b20d-48dd-cd2d-6375daf3deb4"
      },
      "execution_count": 30,
      "outputs": [
        {
          "output_type": "stream",
          "name": "stdout",
          "text": [
            "6\n"
          ]
        }
      ]
    },
    {
      "cell_type": "code",
      "source": [
        "# Floor Division\n",
        "a=78\n",
        "b=8\n",
        "c=a//b;\n",
        "print(c);"
      ],
      "metadata": {
        "colab": {
          "base_uri": "https://localhost:8080/"
        },
        "id": "nug436SXtQjA",
        "outputId": "af8edaaa-aaee-4d43-c1f8-069dfd62b67d"
      },
      "execution_count": 31,
      "outputs": [
        {
          "output_type": "stream",
          "name": "stdout",
          "text": [
            "9\n"
          ]
        }
      ]
    },
    {
      "cell_type": "code",
      "source": [
        "# Exponentiation-power\n",
        "a=2\n",
        "b=4\n",
        "c=a**b;\n",
        "print(c);"
      ],
      "metadata": {
        "colab": {
          "base_uri": "https://localhost:8080/"
        },
        "id": "mDb3USQktiGz",
        "outputId": "31e5cc61-09fa-45c4-8a19-80e8385b959a"
      },
      "execution_count": 33,
      "outputs": [
        {
          "output_type": "stream",
          "name": "stdout",
          "text": [
            "16\n"
          ]
        }
      ]
    },
    {
      "cell_type": "markdown",
      "source": [
        "# **Comparison Operator**"
      ],
      "metadata": {
        "id": "pJNlqu-qt1nE"
      }
    },
    {
      "cell_type": "code",
      "source": [
        "# Equal to\n",
        "a=5\n",
        "b=5\n",
        "print(\"equal\",a==b);"
      ],
      "metadata": {
        "colab": {
          "base_uri": "https://localhost:8080/"
        },
        "id": "sJHFMpdEt6Y2",
        "outputId": "b24598ca-9102-41cd-9e87-170993887762"
      },
      "execution_count": 35,
      "outputs": [
        {
          "output_type": "stream",
          "name": "stdout",
          "text": [
            "equal True\n"
          ]
        }
      ]
    },
    {
      "cell_type": "code",
      "source": [
        "# Greater than\n",
        "a=9\n",
        "b=5\n",
        "print(\"a>b\",a>b);"
      ],
      "metadata": {
        "colab": {
          "base_uri": "https://localhost:8080/"
        },
        "id": "nEFwrya3uKH6",
        "outputId": "29b5c138-36d6-467c-b0d8-45016c44d8d5"
      },
      "execution_count": 36,
      "outputs": [
        {
          "output_type": "stream",
          "name": "stdout",
          "text": [
            "a>b True\n"
          ]
        }
      ]
    },
    {
      "cell_type": "code",
      "source": [
        "# less than\n",
        "a=9\n",
        "b=5\n",
        "print(\"equal\",a<b);"
      ],
      "metadata": {
        "colab": {
          "base_uri": "https://localhost:8080/"
        },
        "id": "SGKLFpHSuTww",
        "outputId": "2ae65e48-62ec-4430-bcd3-8914381fd4ff"
      },
      "execution_count": 37,
      "outputs": [
        {
          "output_type": "stream",
          "name": "stdout",
          "text": [
            "equal False\n"
          ]
        }
      ]
    },
    {
      "cell_type": "code",
      "source": [
        "# Les than or Equal to\n",
        "a=5\n",
        "b=5\n",
        "print(\"equal\",a<=b);"
      ],
      "metadata": {
        "colab": {
          "base_uri": "https://localhost:8080/"
        },
        "id": "R9HNbT9CuZUw",
        "outputId": "59901919-77dc-4b92-af57-9c8e6d2c0c34"
      },
      "execution_count": 38,
      "outputs": [
        {
          "output_type": "stream",
          "name": "stdout",
          "text": [
            "equal True\n"
          ]
        }
      ]
    },
    {
      "cell_type": "code",
      "source": [
        "# Greater than or Equal to\n",
        "a=5\n",
        "b=5\n",
        "print(\"equal\",a>=b);"
      ],
      "metadata": {
        "colab": {
          "base_uri": "https://localhost:8080/"
        },
        "id": "egv_-2SRuijh",
        "outputId": "1983711a-3953-4075-b555-df60dda165db"
      },
      "execution_count": 39,
      "outputs": [
        {
          "output_type": "stream",
          "name": "stdout",
          "text": [
            "equal True\n"
          ]
        }
      ]
    },
    {
      "cell_type": "code",
      "source": [
        "# Not Equal\n",
        "a=9\n",
        "b=14\n",
        "print(\"not equal\",a!=b);"
      ],
      "metadata": {
        "colab": {
          "base_uri": "https://localhost:8080/"
        },
        "id": "0xIOKieFvAjS",
        "outputId": "f5ccda65-f058-4129-ac3e-52bfbba0624f"
      },
      "execution_count": 40,
      "outputs": [
        {
          "output_type": "stream",
          "name": "stdout",
          "text": [
            "not equal True\n"
          ]
        }
      ]
    },
    {
      "cell_type": "markdown",
      "source": [
        "## **Logical Operator**"
      ],
      "metadata": {
        "id": "Y-QuM4qCv-Si"
      }
    },
    {
      "cell_type": "code",
      "source": [
        "a=True\n",
        "b=False\n",
        "print(\"a and b: \",a and b)"
      ],
      "metadata": {
        "colab": {
          "base_uri": "https://localhost:8080/"
        },
        "id": "RpKyhpJ9wCuX",
        "outputId": "b5a75b0e-566f-4337-a024-3cb02a847e75"
      },
      "execution_count": 42,
      "outputs": [
        {
          "output_type": "stream",
          "name": "stdout",
          "text": [
            "a and b:  False\n"
          ]
        }
      ]
    },
    {
      "cell_type": "code",
      "source": [
        "a=True\n",
        "b=False\n",
        "print(\"a and b: \",a or b)"
      ],
      "metadata": {
        "colab": {
          "base_uri": "https://localhost:8080/"
        },
        "id": "quZbNcHmwRSS",
        "outputId": "61b9515a-d7fc-4c04-c3f6-572ecb63de51"
      },
      "execution_count": 43,
      "outputs": [
        {
          "output_type": "stream",
          "name": "stdout",
          "text": [
            "a and b:  True\n"
          ]
        }
      ]
    },
    {
      "cell_type": "code",
      "source": [
        "a=True\n",
        "b=False\n",
        "print(\"a and b: \",a !=b)"
      ],
      "metadata": {
        "colab": {
          "base_uri": "https://localhost:8080/"
        },
        "id": "pdIMw_i6wkZj",
        "outputId": "f822271f-56c9-4c2b-f76a-6ecadaffa0b9"
      },
      "execution_count": 44,
      "outputs": [
        {
          "output_type": "stream",
          "name": "stdout",
          "text": [
            "a and b:  True\n"
          ]
        }
      ]
    },
    {
      "cell_type": "markdown",
      "source": [
        "# **Assignment Operator**"
      ],
      "metadata": {
        "id": "wU733laLw47w"
      }
    },
    {
      "cell_type": "code",
      "source": [
        "#23.Assign a value to a variable(a = 10)\n",
        "a = 10\n",
        "print(\"a =\", a)\n"
      ],
      "metadata": {
        "colab": {
          "base_uri": "https://localhost:8080/"
        },
        "id": "YomyfYS3w2Hv",
        "outputId": "5ebfe302-6431-4220-effd-edc5c216cc90"
      },
      "execution_count": 45,
      "outputs": [
        {
          "output_type": "stream",
          "name": "stdout",
          "text": [
            "a = 10\n"
          ]
        }
      ]
    },
    {
      "cell_type": "code",
      "source": [
        "#24.Increment a variable (a += 5)\n",
        "a = 10\n",
        "a += 5\n",
        "print(\"After increment:\", a)\n"
      ],
      "metadata": {
        "colab": {
          "base_uri": "https://localhost:8080/"
        },
        "id": "crDMZ2hwySbx",
        "outputId": "b5075dca-79cb-46d3-e062-78e4ea38a933"
      },
      "execution_count": 46,
      "outputs": [
        {
          "output_type": "stream",
          "name": "stdout",
          "text": [
            "After increment: 15\n"
          ]
        }
      ]
    },
    {
      "cell_type": "code",
      "source": [
        "#24.Decrement a variable (a -= 5)\n",
        "a = 10\n",
        "a -= 5\n",
        "print(\"After decrement:\", a)"
      ],
      "metadata": {
        "colab": {
          "base_uri": "https://localhost:8080/"
        },
        "id": "cIpEa2MlyxvG",
        "outputId": "a8499d0e-07f6-4b35-fccd-65d381ab6d4e"
      },
      "execution_count": 47,
      "outputs": [
        {
          "output_type": "stream",
          "name": "stdout",
          "text": [
            "After decrement: 5\n"
          ]
        }
      ]
    },
    {
      "cell_type": "code",
      "source": [
        "#26. Multiply and assign (a *= 4)\n",
        "a = 5\n",
        "a *= 4\n",
        "print(\"After multiplication:\", a)\n"
      ],
      "metadata": {
        "colab": {
          "base_uri": "https://localhost:8080/"
        },
        "id": "sGPYVG9azDAg",
        "outputId": "9033e818-b4ad-49bb-b787-882030c8f71e"
      },
      "execution_count": 48,
      "outputs": [
        {
          "output_type": "stream",
          "name": "stdout",
          "text": [
            "After multiplication: 20\n"
          ]
        }
      ]
    },
    {
      "cell_type": "code",
      "source": [
        "#26. Divide and assign (a *= 4)\n",
        "a = 50\n",
        "a /= 4\n",
        "print(\"After Divide:\", a)\n"
      ],
      "metadata": {
        "colab": {
          "base_uri": "https://localhost:8080/"
        },
        "id": "8TIMp2YZzLVW",
        "outputId": "64a48ff1-709d-40c2-d9d8-82abda892612"
      },
      "execution_count": 49,
      "outputs": [
        {
          "output_type": "stream",
          "name": "stdout",
          "text": [
            "After Divide: 12.5\n"
          ]
        }
      ]
    },
    {
      "cell_type": "markdown",
      "source": [
        "# **Memborship** **Opertors**"
      ],
      "metadata": {
        "id": "bvs9A0gz35R5"
      }
    },
    {
      "cell_type": "code",
      "source": [
        "# 28. Check if character is in a string\n",
        "result = 'a' in \"apple\"\n",
        "print(\"'a' in 'apple'? ->\", result)"
      ],
      "metadata": {
        "colab": {
          "base_uri": "https://localhost:8080/"
        },
        "id": "mCwLa-cCzW0f",
        "outputId": "f8642030-707d-4a00-a1bd-3b4687f4227d"
      },
      "execution_count": 50,
      "outputs": [
        {
          "output_type": "stream",
          "name": "stdout",
          "text": [
            "'a' in 'apple'? -> True\n"
          ]
        }
      ]
    },
    {
      "cell_type": "code",
      "source": [
        "# 29. Check if number is NOT in a list\n",
        "result = 5 not in [1, 2, 3]\n",
        "print(\"5 not in [1, 2, 3]? ->\", result)"
      ],
      "metadata": {
        "colab": {
          "base_uri": "https://localhost:8080/"
        },
        "id": "eUKZUYsQzd1J",
        "outputId": "d9aab759-28b5-4cc0-9763-0b61c0fae467"
      },
      "execution_count": 51,
      "outputs": [
        {
          "output_type": "stream",
          "name": "stdout",
          "text": [
            "5 not in [1, 2, 3]? -> True\n"
          ]
        }
      ]
    },
    {
      "cell_type": "markdown",
      "source": [
        "# **Identity Operator**"
      ],
      "metadata": {
        "id": "T5iqzd9u4HAb"
      }
    },
    {
      "cell_type": "code",
      "source": [
        "# 30. Check if two variables reference the same list (x is y)\n",
        "x = [1, 2, 3]\n",
        "y = x\n",
        "print(\"x is y? ->\", x is y)"
      ],
      "metadata": {
        "colab": {
          "base_uri": "https://localhost:8080/"
        },
        "id": "ry576UUAznWd",
        "outputId": "83bc0658-fd34-484b-de39-02def47e0a0e"
      },
      "execution_count": 52,
      "outputs": [
        {
          "output_type": "stream",
          "name": "stdout",
          "text": [
            "x is y? -> True\n"
          ]
        }
      ]
    },
    {
      "cell_type": "markdown",
      "source": [
        "# **String Operators & Examples**"
      ],
      "metadata": {
        "id": "FFcDZKFf4Mb8"
      }
    },
    {
      "cell_type": "code",
      "source": [
        "# 31. Check if two variables do NOT reference the same object (x is not y)\n",
        "x = [1, 2, 3]\n",
        "y = [1, 2, 3]\n",
        "print(\"x is not y? ->\", x is not y)\n"
      ],
      "metadata": {
        "colab": {
          "base_uri": "https://localhost:8080/"
        },
        "id": "vpKEeyqdz0LJ",
        "outputId": "0e38601e-a2ef-4a45-f3f0-5cc6c37919e2"
      },
      "execution_count": 53,
      "outputs": [
        {
          "output_type": "stream",
          "name": "stdout",
          "text": [
            "x is not y? -> True\n"
          ]
        }
      ]
    },
    {
      "cell_type": "code",
      "source": [
        "#32. Concatenate two strings\n",
        "str1 = \"Hello\"\n",
        "str2 = \"World\"\n",
        "result = str1 + \" \" + str2\n",
        "print(\"Concatenated string:\", result)\n"
      ],
      "metadata": {
        "id": "BlLGASB_0FxN"
      },
      "execution_count": null,
      "outputs": []
    },
    {
      "cell_type": "code",
      "source": [
        "#33. Repeat a string multiple times\n",
        "a = \"Hi \"\n",
        "result = a * 3\n",
        "print(result)\n"
      ],
      "metadata": {
        "colab": {
          "base_uri": "https://localhost:8080/"
        },
        "id": "h58ooz3L0Mjo",
        "outputId": "cf19e96f-7968-48d6-f2fe-9a2d4a923835"
      },
      "execution_count": 54,
      "outputs": [
        {
          "output_type": "stream",
          "name": "stdout",
          "text": [
            "Hi Hi Hi \n"
          ]
        }
      ]
    },
    {
      "cell_type": "code",
      "source": [
        "# 34. Find length of a string\n",
        "text = \"Python\"\n",
        "print(\"Length of string:\", len(text))\n"
      ],
      "metadata": {
        "colab": {
          "base_uri": "https://localhost:8080/"
        },
        "id": "knZG2C0X0T29",
        "outputId": "9420bfb2-6dac-40be-9e8d-24f808962b03"
      },
      "execution_count": 55,
      "outputs": [
        {
          "output_type": "stream",
          "name": "stdout",
          "text": [
            "Length of string: 6\n"
          ]
        }
      ]
    },
    {
      "cell_type": "markdown",
      "source": [
        "# **Input/Output**"
      ],
      "metadata": {
        "id": "_lxZuhZc4YhK"
      }
    },
    {
      "cell_type": "code",
      "source": [
        "#35. Take user input and print it\n",
        "name = input(\"Enter your name: \")\n",
        "print(\"You entered:\", name)\n"
      ],
      "metadata": {
        "colab": {
          "base_uri": "https://localhost:8080/"
        },
        "id": "i1E7pgnD0klA",
        "outputId": "a0c6fe04-1869-4007-f281-72cf287f4a75"
      },
      "execution_count": 57,
      "outputs": [
        {
          "output_type": "stream",
          "name": "stdout",
          "text": [
            "Enter your name: tejal\n",
            "You entered: tejal\n"
          ]
        }
      ]
    },
    {
      "cell_type": "code",
      "source": [
        "# 36. Take two numbers as input and print sum\n",
        "n1 = int(input(\"Enter first number: \"))\n",
        "n2 = int(input(\"Enter second number: \"))\n",
        "print(\"Sum =\", n1 + n2)\n"
      ],
      "metadata": {
        "colab": {
          "base_uri": "https://localhost:8080/"
        },
        "id": "Fd0PWVDR0scf",
        "outputId": "63aba952-217b-4f2a-c295-a04ac5e5d3e5"
      },
      "execution_count": 56,
      "outputs": [
        {
          "output_type": "stream",
          "name": "stdout",
          "text": [
            "Enter first number: 10\n",
            "Enter second number: 12\n",
            "Sum = 22\n"
          ]
        }
      ]
    },
    {
      "cell_type": "markdown",
      "source": [
        "# **Conditional Statements**"
      ],
      "metadata": {
        "id": "XFtosLCh4fYu"
      }
    },
    {
      "cell_type": "code",
      "source": [
        "#37. Print grades based on marks (if-elif-else)\n",
        "\n",
        "marks = int(input(\"Enter marks: \"))\n",
        "\n",
        "if marks >= 90:\n",
        "    grade = \"A\"\n",
        "elif marks >= 75:\n",
        "    grade = \"B\"\n",
        "elif marks >= 50:\n",
        "    grade = \"C\"\n",
        "else:\n",
        "    grade = \"Fail\"\n",
        "\n",
        "print(\"Grade:\", grade)\n"
      ],
      "metadata": {
        "colab": {
          "base_uri": "https://localhost:8080/"
        },
        "id": "81p9WdOz08DJ",
        "outputId": "9d297bd6-cb8a-439c-a382-b07a5ad670f3"
      },
      "execution_count": 58,
      "outputs": [
        {
          "output_type": "stream",
          "name": "stdout",
          "text": [
            "Enter marks: 78\n",
            "Grade: B\n"
          ]
        }
      ]
    },
    {
      "cell_type": "code",
      "source": [
        "#38. Check if number is divisible by 3 and 5\n",
        "\n",
        "n = int(input(\"Enter a number: \"))\n",
        "\n",
        "if n % 3 == 0 and n% 5 == 0:\n",
        "    print(n, \"is divisible by both 3 and 5\")\n",
        "else:\n",
        "    print(n, \"is NOT divisible by both 3 and 5\")\n"
      ],
      "metadata": {
        "colab": {
          "base_uri": "https://localhost:8080/"
        },
        "id": "7CBtY-zW1Eyu",
        "outputId": "76af2bc6-8c96-4e6c-aac6-05df1bb4cc45"
      },
      "execution_count": 59,
      "outputs": [
        {
          "output_type": "stream",
          "name": "stdout",
          "text": [
            "Enter a number: 45\n",
            "45 is divisible by both 3 and 5\n"
          ]
        }
      ]
    },
    {
      "cell_type": "markdown",
      "source": [
        "# **Loops**"
      ],
      "metadata": {
        "id": "fnzxc2lM4nUT"
      }
    },
    {
      "cell_type": "code",
      "source": [
        "#39. Print numbers from 1 to 10 using for loop\n",
        "\n",
        "for i in range(1, 11):\n",
        "    print(i)"
      ],
      "metadata": {
        "colab": {
          "base_uri": "https://localhost:8080/"
        },
        "id": "s4SfmHKV1oDy",
        "outputId": "e74655a7-6a1b-4da5-f1bb-1f2825e76f5e"
      },
      "execution_count": 60,
      "outputs": [
        {
          "output_type": "stream",
          "name": "stdout",
          "text": [
            "1\n",
            "2\n",
            "3\n",
            "4\n",
            "5\n",
            "6\n",
            "7\n",
            "8\n",
            "9\n",
            "10\n"
          ]
        }
      ]
    },
    {
      "cell_type": "code",
      "source": [
        "#40. Print even numbers between 1 and 20 using while loop\n",
        "\n",
        "n = 2\n",
        "while n <= 20:\n",
        "    print(n)\n",
        "    n += 2\n"
      ],
      "metadata": {
        "colab": {
          "base_uri": "https://localhost:8080/"
        },
        "id": "drUCSRMP13Kz",
        "outputId": "2effa143-da5a-4db7-88f1-068cb4000421"
      },
      "execution_count": 63,
      "outputs": [
        {
          "output_type": "stream",
          "name": "stdout",
          "text": [
            "2\n",
            "4\n",
            "6\n",
            "8\n",
            "10\n",
            "12\n",
            "14\n",
            "16\n",
            "18\n",
            "20\n"
          ]
        }
      ]
    },
    {
      "cell_type": "markdown",
      "source": [
        "# **Lists and Operator**"
      ],
      "metadata": {
        "id": "EoqAO8y-4wGp"
      }
    },
    {
      "cell_type": "code",
      "source": [
        "#41. Add an element to a list using append()\n",
        "\n",
        "my_list = [1, 2, 3]\n",
        "my_list.append(4)\n",
        "print(my_list)\n"
      ],
      "metadata": {
        "colab": {
          "base_uri": "https://localhost:8080/"
        },
        "id": "pQ37K1mh2Abg",
        "outputId": "05f1d9fc-bcc2-491e-cd71-f10a84e06aeb"
      },
      "execution_count": 64,
      "outputs": [
        {
          "output_type": "stream",
          "name": "stdout",
          "text": [
            "[1, 2, 3, 4]\n"
          ]
        }
      ]
    },
    {
      "cell_type": "code",
      "source": [
        "# 42. Remove an element from a list using remove()\n",
        "\n",
        "my_list = [1, 2, 3, 4]\n",
        "my_list.remove(3)\n",
        "print(my_list)"
      ],
      "metadata": {
        "colab": {
          "base_uri": "https://localhost:8080/"
        },
        "id": "bRZBxR1e2J09",
        "outputId": "29e007c9-6b5e-491a-f939-70ab920637db"
      },
      "execution_count": 65,
      "outputs": [
        {
          "output_type": "stream",
          "name": "stdout",
          "text": [
            "[1, 2, 4]\n"
          ]
        }
      ]
    },
    {
      "cell_type": "code",
      "source": [
        "#43. Check if an element exists in a list using in\n",
        "\n",
        "my_list = [10, 20, 30]\n",
        "if 20 in my_list:\n",
        "    print(\"20 is in the list\")\n",
        "else:\n",
        "    print(\"20 is not in the list\")\n",
        "\n"
      ],
      "metadata": {
        "colab": {
          "base_uri": "https://localhost:8080/"
        },
        "id": "ND4eXi3k2Xh_",
        "outputId": "8a4c69d0-46b6-49bc-f8c8-bdbe503ee09e"
      },
      "execution_count": 66,
      "outputs": [
        {
          "output_type": "stream",
          "name": "stdout",
          "text": [
            "20 is in the list\n"
          ]
        }
      ]
    },
    {
      "cell_type": "markdown",
      "source": [
        "# **Dictionaries**"
      ],
      "metadata": {
        "id": "bmkiRfuu44ex"
      }
    },
    {
      "cell_type": "code",
      "source": [
        "#44. Create a dictionary with key-value pairs\n",
        "\n",
        "my_dict = {\"name\": \"Alice\", \"age\": 25, \"city\": \"New York\"}\n",
        "print(my_dict)\n"
      ],
      "metadata": {
        "colab": {
          "base_uri": "https://localhost:8080/"
        },
        "id": "0JzCwfhK2eVU",
        "outputId": "56543be3-47cb-4816-c681-0e2bb86b3673"
      },
      "execution_count": 69,
      "outputs": [
        {
          "output_type": "stream",
          "name": "stdout",
          "text": [
            "{'name': 'Alice', 'age': 25, 'city': 'New York'}\n"
          ]
        }
      ]
    },
    {
      "cell_type": "code",
      "source": [
        "# 45. Update a value in a dictionary\n",
        "\n",
        "my_dict = {\"name\": \"Alice\", \"age\": 25, \"city\": \"New York\"}\n",
        "my_dict[\"age\"] = 26\n",
        "print(my_dict)"
      ],
      "metadata": {
        "colab": {
          "base_uri": "https://localhost:8080/"
        },
        "id": "Kz5Z7qHv2mJz",
        "outputId": "b263abaa-9130-4885-9fbe-09a8732e5169"
      },
      "execution_count": 68,
      "outputs": [
        {
          "output_type": "stream",
          "name": "stdout",
          "text": [
            "{'name': 'Alice', 'age': 26, 'city': 'New York'}\n"
          ]
        }
      ]
    },
    {
      "cell_type": "code",
      "source": [
        "# 46. Print all keys and values in a dictionary\n",
        "\n",
        "my_dict = {\"name\": \"Alice\", \"age\": 25, \"city\": \"New York\"}\n",
        "for key, value in my_dict.items():\n",
        "    print(key, \":\", value)\n"
      ],
      "metadata": {
        "colab": {
          "base_uri": "https://localhost:8080/"
        },
        "id": "PK37gIfH2sye",
        "outputId": "9f4b36af-9926-44a2-ec58-fbef88f154fa"
      },
      "execution_count": 67,
      "outputs": [
        {
          "output_type": "stream",
          "name": "stdout",
          "text": [
            "name : Alice\n",
            "age : 25\n",
            "city : New York\n"
          ]
        }
      ]
    },
    {
      "cell_type": "markdown",
      "source": [
        "# **Functions**"
      ],
      "metadata": {
        "id": "Xa_L2ULD49m2"
      }
    },
    {
      "cell_type": "code",
      "source": [
        "# 47. Create and call a simple function that prints a message\n",
        "\n",
        "def greet():\n",
        "    print(\"Hello, welcome to Python!\")\n",
        "\n",
        "greet()\n"
      ],
      "metadata": {
        "colab": {
          "base_uri": "https://localhost:8080/"
        },
        "id": "G09W9h4B23Ng",
        "outputId": "e6564bda-492a-4aa1-ef4b-8968fb5ff431"
      },
      "execution_count": 70,
      "outputs": [
        {
          "output_type": "stream",
          "name": "stdout",
          "text": [
            "Hello, welcome to Python!\n"
          ]
        }
      ]
    },
    {
      "cell_type": "code",
      "source": [
        "# 48. Create a function that returns the sum of two numbers\n",
        "\n",
        "def add_numbers(a, b):\n",
        "    return a + b\n",
        "\n",
        "result = add_numbers(5, 7)\n",
        "print(\"Sum =\", result)\n",
        "\n"
      ],
      "metadata": {
        "colab": {
          "base_uri": "https://localhost:8080/"
        },
        "id": "ibQ9hSTM28He",
        "outputId": "669b4428-7016-4b66-e275-51ff152d8b48"
      },
      "execution_count": 71,
      "outputs": [
        {
          "output_type": "stream",
          "name": "stdout",
          "text": [
            "Sum = 12\n"
          ]
        }
      ]
    },
    {
      "cell_type": "markdown",
      "source": [
        "# **Error Hndling**"
      ],
      "metadata": {
        "id": "wuHmKgJ05B31"
      }
    },
    {
      "cell_type": "code",
      "source": [
        "#49. Handle division by zero error using try-except\n",
        "\n",
        "try:\n",
        "    num1 = 10\n",
        "    num2 = 0\n",
        "    result = num1 / num2\n",
        "    print(result)\n",
        "except ZeroDivisionError:\n",
        "    print(\"Error: Cannot divide by zero\")\n",
        "\n"
      ],
      "metadata": {
        "colab": {
          "base_uri": "https://localhost:8080/"
        },
        "id": "s8l1qOJW3RPd",
        "outputId": "6340f8fe-62dc-426d-d1a7-c743d9575f2d"
      },
      "execution_count": 73,
      "outputs": [
        {
          "output_type": "stream",
          "name": "stdout",
          "text": [
            "Error: Cannot divide by zero\n"
          ]
        }
      ]
    },
    {
      "cell_type": "code",
      "source": [
        "#50. Handle invalid input when converting string to integer\n",
        "\n",
        "try:\n",
        "    num = int(input(\"Enter a number: \"))\n",
        "    print(\"You entered:\", num)\n",
        "except ValueError:\n",
        "    print(\"Error: Invalid number\")\n"
      ],
      "metadata": {
        "colab": {
          "base_uri": "https://localhost:8080/"
        },
        "id": "nccXYST03Z2d",
        "outputId": "078d58c8-a693-4218-e65b-25ec37c4503a"
      },
      "execution_count": 72,
      "outputs": [
        {
          "output_type": "stream",
          "name": "stdout",
          "text": [
            "Enter a number: 67\n",
            "You entered: 67\n"
          ]
        }
      ]
    }
  ]
}